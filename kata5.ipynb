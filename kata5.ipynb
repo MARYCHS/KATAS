{
 "cells": [
  {
   "cell_type": "code",
   "execution_count": 1,
   "metadata": {},
   "outputs": [
    {
     "name": "stdout",
     "output_type": "stream",
     "text": [
      "628949330\n",
      "390577533.93\n"
     ]
    }
   ],
   "source": [
    "# Calcular la distancia entre planetas\n",
    "Tierra =149597870\n",
    "Júpiter =778547200 \n",
    "# Calcular la distancia entre planetas\n",
    "\n",
    "distancia_km = Júpiter - Tierra\n",
    "print(distancia_km)\n",
    "\n",
    "distancia_mi = distancia_km * 0.621\n",
    "print(distancia_mi)\n"
   ]
  },
  {
   "cell_type": "code",
   "execution_count": 2,
   "metadata": {},
   "outputs": [
    {
     "name": "stdout",
     "output_type": "stream",
     "text": [
      "13606061\n",
      "8449363.881\n"
     ]
    }
   ],
   "source": [
    "# Almacenar las entradas del usuario\n",
    "Tierra = input('Introduzca la distancia del sol para el primer planeta en KM')\n",
    "Júpiter = input('Introduzca la distancia desde el sol')\n",
    "# Convierte las cadenas de ambos planetas a números enteros\n",
    "Tierra = int(Tierra)\n",
    "Júpiter = int(Júpiter)\n",
    "# Realizar el cálculo y determinar el valor absoluto\n",
    "distancia_km = Júpiter - Tierra\n",
    "print(distancia_km)\n",
    "# Convertir de KM a Millas\n",
    "distancia_mi = distancia_km * 0.621\n",
    "print(abs(distancia_mi))"
   ]
  }
 ],
 "metadata": {
  "interpreter": {
   "hash": "7d81557f332839691b5a4bcacbef0db02b40b28287d117651dacd964384c252e"
  },
  "kernelspec": {
   "display_name": "Python 3.10.2 64-bit",
   "language": "python",
   "name": "python3"
  },
  "language_info": {
   "codemirror_mode": {
    "name": "ipython",
    "version": 3
   },
   "file_extension": ".py",
   "mimetype": "text/x-python",
   "name": "python",
   "nbconvert_exporter": "python",
   "pygments_lexer": "ipython3",
   "version": "3.10.2"
  },
  "orig_nbformat": 4
 },
 "nbformat": 4,
 "nbformat_minor": 2
}
