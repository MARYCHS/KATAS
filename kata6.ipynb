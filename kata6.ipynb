{
 "cells": [
  {
   "cell_type": "code",
   "execution_count": 3,
   "metadata": {},
   "outputs": [
    {
     "name": "stdout",
     "output_type": "stream",
     "text": [
      "El planeta Martes no está en el sistema solar.\n"
     ]
    }
   ],
   "source": [
    "# Creamos la lista planets y la mostramos\n",
    "\n",
    "planetas = ['Mercurio', 'Venus', 'Tierra', 'Marte', 'Júpiter', 'Saturno', 'Urano', 'Neptuno']\n",
    "planeta = input(\"Escribe el nombre de un planeta\").title()\n",
    "if planeta in planetas:\n",
    "    print(f'El planeta {planeta} sí está en el sistema solar.')\n",
    "else:\n",
    "    print(f'El planeta {planeta} no está en el sistema solar.')\n"
   ]
  }
 ],
 "metadata": {
  "interpreter": {
   "hash": "7d81557f332839691b5a4bcacbef0db02b40b28287d117651dacd964384c252e"
  },
  "kernelspec": {
   "display_name": "Python 3.10.2 64-bit",
   "language": "python",
   "name": "python3"
  },
  "language_info": {
   "codemirror_mode": {
    "name": "ipython",
    "version": 3
   },
   "file_extension": ".py",
   "mimetype": "text/x-python",
   "name": "python",
   "nbconvert_exporter": "python",
   "pygments_lexer": "ipython3",
   "version": "3.10.2"
  },
  "orig_nbformat": 4
 },
 "nbformat": 4,
 "nbformat_minor": 2
}
